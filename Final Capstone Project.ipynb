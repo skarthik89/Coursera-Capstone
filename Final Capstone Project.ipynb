{
 "cells": [
  {
   "cell_type": "markdown",
   "metadata": {
    "collapsed": true
   },
   "source": [
    "# Introduction / Business Problem"
   ]
  },
  {
   "cell_type": "raw",
   "metadata": {},
   "source": [
    "A friend wants to open a new fusion Indian restaurant in Toronto. He plans to make it slightly upscale, and wants to attract a diverse range of customers, rather than having a predominantly Indian customer base. He is confused about which neighborhood he should open his new restaurant in.\n",
    "\n",
    "I have suggested that he use 3 criteria to pick the location.\n",
    "\n",
    "1) His restaurant should be located in an upscale neighborhood, surrounded by similarly upscale stores and restaurants.\n",
    "2) His restaurant should be located in a neighborhood that doesn't already have too many Indian restaurants. How many is too many? We will need restaurant data from Toronto to be sure. For now, I would like to have no other Indian restaurant within 500 metres of my friend's new restaurant.\n",
    "3) His restaurant should be located in a neighborhood that already attracts a diverse crowd. E.g., a neighborhood that has multiple Italian, Korean, Mexican, etc. restaurants is better than a neighborhood dominated by, say, Korean restaurants.\n",
    "\n",
    "My friend likes these 3 criteria and would like me to suggest locations that meet these 3 criteria. The rest of this project involves using Foursquare data to identify neighborhoods that meet these 3 criteria."
   ]
  }
 ],
 "metadata": {
  "kernelspec": {
   "display_name": "Python 3.6",
   "language": "python",
   "name": "python3"
  },
  "language_info": {
   "codemirror_mode": {
    "name": "ipython",
    "version": 3
   },
   "file_extension": ".py",
   "mimetype": "text/x-python",
   "name": "python",
   "nbconvert_exporter": "python",
   "pygments_lexer": "ipython3",
   "version": "3.6.8"
  }
 },
 "nbformat": 4,
 "nbformat_minor": 1
}
