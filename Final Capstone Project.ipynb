{
 "cells": [
  {
   "cell_type": "markdown",
   "metadata": {
    "collapsed": true
   },
   "source": [
    "# Introduction / Business Problem"
   ]
  },
  {
   "cell_type": "raw",
   "metadata": {},
   "source": [
    "A friend wants to open a new fusion Indian restaurant in Toronto. He plans to make it slightly upscale, and wants to attract a diverse range of customers, rather than having a predominantly Indian customer base. He is confused about which neighborhood he should open his new restaurant in.\n",
    "\n",
    "I have suggested that he use 3 criteria to pick the location.\n",
    "\n",
    "1) His restaurant should be located in an upscale neighborhood, surrounded by similarly upscale stores and restaurants.\n",
    "2) His restaurant should be located in a neighborhood that doesn't already have too many Indian restaurants. How many is too many? We will need restaurant data from Toronto to be sure. For now, I would like to have no other Indian restaurant within 500 metres of my friend's new restaurant.\n",
    "3) His restaurant should be located in a neighborhood that already attracts a diverse crowd. E.g., a neighborhood that has multiple Italian, Korean, Mexican, etc. restaurants is better than a neighborhood dominated by, say, Korean restaurants.\n",
    "\n",
    "My friend likes these 3 criteria and would like me to suggest locations that meet these 3 criteria. The rest of this project involves using Foursquare data to identify neighborhoods that meet these 3 criteria."
   ]
  },
  {
   "cell_type": "markdown",
   "metadata": {},
   "source": [
    "# Data"
   ]
  },
  {
   "cell_type": "markdown",
   "metadata": {},
   "source": [
    "### First, some context"
   ]
  },
  {
   "cell_type": "markdown",
   "metadata": {},
   "source": [
    "Before I describe the data, let me provide some context as to what I will do with the data.\n",
    "\n",
    "I want to divide the neighborhoods of Toronto into 4 clusters based on how Upscale and Diverse they are. The 4 clusters will be:\n",
    "(1) Both Upscale & Diverse\n",
    "(2) Upscale, but not Diverse\n",
    "(3) Diverse, but not Upscale\n",
    "(4) Neither Upscale nor Diverse\n",
    "\n",
    "Of these, I will focus just on the Upscale & Diverse neighborhoods for my final test. In this final test, I will rank the Upscale & Diverse neighborgoods by how many Indian restaurants they already have, and I will suggest that my friend pick one of the neighborhoods with fewer Indian restaurants."
   ]
  },
  {
   "cell_type": "markdown",
   "metadata": {},
   "source": [
    "### Next, an outline of the data"
   ]
  },
  {
   "cell_type": "markdown",
   "metadata": {},
   "source": [
    "I am going to need the following data from Folium, Foursquare, and Wikipedia.\n",
    "\n",
    "1) A map of Toronto to get started. This will come from Folium.\n",
    "2) A basic dataset of boroughs and neighborhoods in Toronto, like the one I created for the Week 3 assignment of Segmenting and Clustering neighborhoods in Toronto. This will come from Wikipedia, just like in the Week 3 assignment.\n",
    "3) Finally, for the K-means clustering, I will need data on the top venues in each neighborhood within a given radius. This will come from Foursquare, just like in the Week 3 assignment.\n",
    "\n",
    "Overall, my approach will be similar to the analysis in Week 3 with just two major changes\n",
    "(1) I care only about the top restaurant venues, rather than all the top venues (i.e., I will be ignoring any venue that is not a restaurant).\n",
    "(2) I need to define some metric that estimates the degree of diversity of restaurants, and the degree of upscale-ness of restaurants, for the K Means clustering.\n",
    "    For measuring diversity, I will use the cuisine of each restaurant as raw data. I will get the cuisine from the 'Venue Category' field in Foursquare, which classified restaurants into \"Afghan restaurant\", \"African restaurant\", \"American restaurant\", etc. in the Week 3 Lab of segmenting neighborhoods in New York. The higher the variety in cuisine names, the higher that neighborhood's diversity score will be.\n",
    "    For measuring upscale-ness, I will use the expensive-ness of each restaurant (using the 1-4 \"dollar\" scale) as raw data. I am looking for a neighborhood that is dominated by 2-dollar and 3-dollar restaurants, because 4-dollar will be too upscale, and 1-dollar will be too cheap."
   ]
  },
  {
   "cell_type": "markdown",
   "metadata": {},
   "source": [
    "### Finally, the code"
   ]
  },
  {
   "cell_type": "code",
   "execution_count": null,
   "metadata": {},
   "outputs": [],
   "source": []
  }
 ],
 "metadata": {
  "kernelspec": {
   "display_name": "Python 3.6",
   "language": "python",
   "name": "python3"
  },
  "language_info": {
   "codemirror_mode": {
    "name": "ipython",
    "version": 3
   },
   "file_extension": ".py",
   "mimetype": "text/x-python",
   "name": "python",
   "nbconvert_exporter": "python",
   "pygments_lexer": "ipython3",
   "version": "3.6.8"
  }
 },
 "nbformat": 4,
 "nbformat_minor": 1
}
